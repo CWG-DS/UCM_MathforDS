{
 "cells": [
  {
   "cell_type": "markdown",
   "metadata": {},
   "source": [
    "# Actividades Modulo 1"
   ]
  },
  {
   "cell_type": "markdown",
   "metadata": {},
   "source": [
    "# Ejercicio 1"
   ]
  },
  {
   "cell_type": "markdown",
   "metadata": {},
   "source": [
    "**EJERCICIO 1.A**\n",
    "\n",
    "Nota: En las cuestiones siguientes se debe señalar la letra C si son ciertas o la F si son falsas. Es necesario justificar la respuesta.\n",
    "\n",
    "\n",
    "a) Dado el modelo de PL:\n",
    "\t\t\t\t\t\t\n",
    "MIN Z= -3X<sub>1</sub> -5X<sub>2</sub> <br/> \n",
    "X<sub>1</sub> + 3X<sub>2</sub> ≥ 6     <br/>\n",
    "2X<sub>1</sub> + 4X<sub>2</sub> ≤ 6\t   <br/>\n",
    "X<sub>1</sub> ≤ 0,  X<sub>2</sub> ≥ 0  <br>\t\t\t\t\t\t\t\n",
    "\n",
    "Después de linealizar el problema el modelo queda transformado en:\n",
    "\n",
    "MIN Z = 3X'<sub>1</sub> -5X<sub>2</sub> <br/> \n",
    "-X'<sub>1</sub> + 3X<sub>2</sub> ≥ 6    <br/>\n",
    "-2X'<sub>1</sub> + 4X<sub>2</sub> ≤ 6\t<br/>\n",
    "X'<sub>1</sub>, X<sub>2</sub>  ≥ 0      <br/>\n",
    "\n"
   ]
  },
  {
   "cell_type": "markdown",
   "metadata": {},
   "source": [
    "**Respuesta:**\n",
    "\n",
    "Verdadero. <br/>\n",
    "Reemplazamos: X<sub>1</sub> = -X'<sub>1</sub> <br/>\n",
    "Este cambio de variable se utiliza para reemplazar linealizar\n",
    "modelos inicialmente no lineales.\n",
    "\n"
   ]
  },
  {
   "cell_type": "markdown",
   "metadata": {},
   "source": [
    "**EJERCICIO 1.B**                            <br/>\n",
    "La decisión de tomar (X<sub>1</sub>, X<sub>2</sub>) = (7,5) en el\n",
    "modelo de PL: <br/>\n",
    "MIN Z = 3X<sub>1</sub>-5X<sub>2</sub>    <br/>\n",
    "-X<sub>1</sub> + 3X<sub>2</sub> ≥ 6      <br/>\n",
    "-2X<sub>1</sub> + 4X<sub>2</sub> ≤ 6     <br/>\n",
    "X<sub>1</sub> + X<sub>2</sub> ≤ 12       <br/>\n",
    "X<sub>1</sub>, X<sub>2</sub> ≥ 0         <br/>\n",
    "es una decisión factible (o posible) pero no es un vértice, más concretamente, es un punto interior de la región factible."
   ]
  },
  {
   "cell_type": "markdown",
   "metadata": {},
   "source": [
    "Respuesta:\n"
   ]
  },
  {
   "cell_type": "code",
   "execution_count": 3,
   "metadata": {},
   "outputs": [
    {
     "name": "stdout",
     "output_type": "stream",
     "text": [
      "[True, True, True]\n"
     ]
    }
   ],
   "source": [
    "# Escribimos las anteriores expresiones con las variables x e y\n",
    "# dentro de una lista, para comprobar si se cumplen todas las \n",
    "# condiciones dado x = 7 e y = 5. El resultado de la lista es\n",
    "# una lista de Booleanos que indican si se cumplen cada una\n",
    "# de las expresiones en base los valores de nuestas variables.\n",
    "x = 7\n",
    "y = 5\n",
    "\n",
    "Conditions = [-x + 3*y >= 6, -2*x + 4*y <= 6, x + y <= 12]\n",
    "print(Conditions)\n"
   ]
  },
  {
   "cell_type": "markdown",
   "metadata": {},
   "source": [
    "La decision es factible y un vértice como se demuestra a continuación:\n",
    "Nota (No se describe la función objectivo)."
   ]
  },
  {
   "cell_type": "code",
   "execution_count": 70,
   "metadata": {},
   "outputs": [
    {
     "data": {
      "image/png": "[encoded data removed]",
      "text/plain": [
       "<Figure size 432x288 with 1 Axes>"
      ]
     },
     "metadata": {
      "needs_background": "light"
     },
     "output_type": "display_data"
    }
   ],
   "source": [
    "import matplotlib.pyplot as plt\n",
    "import numpy as np\n",
    "fig = plt.figure()\n",
    "ax = fig.add_subplot(1, 1, 1)\n",
    "x = np.linspace(-20,20,1000)\n",
    "ax.spines['left'].set_position('zero')\n",
    "ax.spines['bottom'].set_position('zero')\n",
    "ax.spines['right'].set_color('none')\n",
    "ax.spines['top'].set_color('none')\n",
    "ax.xaxis.set_ticks_position('bottom')\n",
    "ax.yaxis.set_ticks_position('left')\n",
    "ax.set_xlim(0,12)\n",
    "ax.set_ylim(0,12)\n",
    "plt.plot(x, x/3+3, '-r', label='y =x/3+3')\n",
    "\n",
    "\n",
    "plt.plot(x, x/2 + 6/4, '-.g', label='y =x/2 + 6/4')\n",
    "\n",
    "\n",
    "plt.plot(x, -x+12,':b', label='y =-x+12')\n",
    "\n",
    "\n",
    "plt.plot(7,5, 'y')\n",
    "plt.legend(loc='upper right')\n",
    "plt.show()"
   ]
  },
  {
   "cell_type": "code",
   "execution_count": 5,
   "metadata": {},
   "outputs": [
    {
     "name": "stderr",
     "output_type": "stream",
     "text": [
      "/usr/lib/python3/dist-packages/sympy/core/relational.py:500: SymPyDeprecationWarning: \n",
      "\n",
      "Eq(expr) with rhs default to 0 has been deprecated since SymPy 1.5.\n",
      "Use Eq(expr, 0) instead. See\n",
      "https://github.com/sympy/sympy/issues/16587 for more info.\n",
      "\n",
      "  ).warn()\n"
     ]
    },
    {
     "data": {
      "text/plain": [
       "<Figure size 432x288 with 0 Axes>"
      ]
     },
     "metadata": {},
     "output_type": "display_data"
    },
    {
     "data": {
      "image/png": "[encoded data removed]",
      "text/plain": [
       "<Figure size 432x288 with 1 Axes>"
      ]
     },
     "metadata": {
      "needs_background": "light"
     },
     "output_type": "display_data"
    }
   ],
   "source": [
    "# In order to find the vertices and draw the polygon\n",
    "from sympy import symbols, Eq, solve\n",
    "x, y = symbols('x y')\n",
    "\n",
    "# Calculating the possible solutions for equation pairs\n",
    "# to obtain the vertices of our polygon\n",
    "y1 = x/3 + 3 # Red Line\n",
    "y2 = x/2 + 6/4 # Green Line\n",
    "y3 = -x + 12 # Blue Line\n",
    "\n",
    "eq1 = Eq(1/3*x - y + 3)\n",
    "eq2 = Eq(1/2*x - y + 6/4)\n",
    "eq3 = Eq(x + y - 12)\n",
    "\n",
    "sol1 = solve((eq1, eq2), (x, y))\n",
    "sol2 = solve((eq1, eq3), (x, y))\n",
    "sol3 = solve((eq2, eq3), (x, y))\n",
    "Vertex1 = list(sol1.values())\n",
    "Vertex2 = list(sol2.values())\n",
    "Vertex3 = list(sol3.values())\n",
    "\n",
    "# Creating the polygon based on our vertices\n",
    "coord = [Vertex1, Vertex2, Vertex3]\n",
    "coord.append(coord[0])\n",
    "xs, ys = zip(*coord)\n",
    "\n",
    "# Setting up and plotting the figure\n",
    "plt.figure()\n",
    "\n",
    "fig = plt.figure()\n",
    "ax = fig.add_subplot(1, 1, 1)\n",
    "\n",
    "ax.spines['left'].set_position('zero')\n",
    "ax.spines['bottom'].set_position('zero')\n",
    "ax.spines['right'].set_color('none')\n",
    "ax.spines['top'].set_color('none')\n",
    "ax.xaxis.set_ticks_position('bottom')\n",
    "\n",
    "ax.set_xlim(0,12)\n",
    "ax.set_ylim(0, 12)\n",
    "plt.plot(xs, ys)\n",
    "plt.text(Vertex1[0]+0.25, Vertex1[1], '[9,6]')\n",
    "plt.text(Vertex2[0]-2, Vertex2[1]+0.25, '[6.75,5.25]')\n",
    "plt.text(Vertex3[0]-0.3, Vertex3[1]-0.5, '[7,5]')\n",
    "plt.show()"
   ]
  },
  {
   "cell_type": "markdown",
   "metadata": {},
   "source": [
    "**EJERCICIO 1.C**                  <br/>\n",
    "≤ ≥                            <br/>\n",
    "PL:                            <br/>\n",
    "MIN Z = 3X<sub>1</sub> + 10X<sub>2</sub>     <br/>\n",
    "Rest1) -X<sub>1</sub> + 6X<sub>2</sub> ≥ 16  <br/>\n",
    "Rest2) -X<sub>1</sub> + 4X<sub>2</sub> ≥ 8   <br/>\n",
    "Rest3) X<sub>1</sub> + 2X<sub>2</sub> ≤ 28   <br/>\n",
    "X<sub>1</sub>, X<sub>2</sub> ≥ 0             <br/>\n",
    "\n",
    "La región factible es la región determinada por los vértices V1, V4, V6, V7 y V8 (origen de coordenadas)."
   ]
  },
  {
   "cell_type": "code",
   "execution_count": 6,
   "metadata": {},
   "outputs": [],
   "source": [
    "# Importando librarias\n",
    "from sympy import symbols, Eq, solve\n",
    "x, y = symbols('x y')\n",
    "\n",
    "# Nuestras funciones lineales:\n",
    "f_obj = 3*x + 10*y\n",
    "Rest1 = -1*x + 6*y -16\n",
    "Rest2 = -1*x + 4*y - 8\n",
    "Rest3 = x + 2*y -28 \n",
    "\n",
    "# Depejamos y\n",
    "f_obj_y = -3/10*x\n",
    "Rest1_y = 1/6*x + 16/6\n",
    "Rest2_y = 1/4*x + 2\n",
    "Rest3_y = -1/2*x + 14"
   ]
  },
  {
   "cell_type": "code",
   "execution_count": 7,
   "metadata": {},
   "outputs": [
    {
     "data": {
      "image/png": "[encoded data removed]",
      "text/plain": [
       "<Figure size 432x288 with 1 Axes>"
      ]
     },
     "metadata": {
      "needs_background": "light"
     },
     "output_type": "display_data"
    }
   ],
   "source": [
    "# Importando Librerias\n",
    "import matplotlib.pyplot as plt\n",
    "import numpy as np\n",
    "\n",
    "# Creamos la figura\n",
    "fig = plt.figure()\n",
    "ax = fig.add_subplot(1, 1, 1)\n",
    "x = np.linspace(-20,20,1000)\n",
    "ax.spines['left'].set_position('zero')\n",
    "ax.spines['bottom'].set_position('zero')\n",
    "ax.spines['right'].set_color('none')\n",
    "ax.spines['top'].set_color('none')\n",
    "ax.xaxis.set_ticks_position('bottom')\n",
    "ax.yaxis.set_ticks_position('left')\n",
    "ax.set_xlim(-5,30)\n",
    "ax.set_ylim(-5,30)\n",
    "\n",
    "# Añadiendo nuestas funciones lineales\n",
    "plt.plot(x, -3/10*x, '-r', label='y=-3/10x')\n",
    "plt.plot(x, 1/6*x + 16/6, '-.g', label='y = 1/6x + 16/6')\n",
    "plt.plot(x, 1/4*x + 2,':b', label='y = 1/4x + 2')\n",
    "plt.plot(x, -1/2*x + 14, 'y', label='y = -1/2x +14')\n",
    "\n",
    "plt.plot(7,5, 'y')\n",
    "plt.legend(loc='upper right')\n",
    "plt.show()"
   ]
  },
  {
   "cell_type": "code",
   "execution_count": 8,
   "metadata": {},
   "outputs": [
    {
     "name": "stderr",
     "output_type": "stream",
     "text": [
      "/usr/lib/python3/dist-packages/sympy/core/relational.py:500: SymPyDeprecationWarning: \n",
      "\n",
      "Eq(expr) with rhs default to 0 has been deprecated since SymPy 1.5.\n",
      "Use Eq(expr, 0) instead. See\n",
      "https://github.com/sympy/sympy/issues/16587 for more info.\n",
      "\n",
      "  ).warn()\n"
     ]
    }
   ],
   "source": [
    "# Procedemos a encontrar los vertices donde\n",
    "# nuestras funciones intersectan\n",
    "from sympy import symbols, Eq, solve\n",
    "x, y = symbols('x y')\n",
    "\n",
    "# Declaramos nuestras funciones\n",
    "f_obj = 3*x + 10*y\n",
    "Rest1 = -1*x + 6*y -16\n",
    "Rest2 = -1*x + 4*y - 8\n",
    "Rest3 = x + 2*y -28 \n",
    "axX   = x\n",
    "axY   = y\n",
    "\n",
    "f_obj = Eq(f_obj)\n",
    "Rest1 = Eq(Rest1)\n",
    "Rest2 = Eq(Rest2)\n",
    "Rest3 = Eq(Rest3)\n",
    "axX   = Eq(x)\n",
    "axY   = Eq(y)\n",
    "\n",
    "# Resolvemos cada par de funciones\n",
    "f_objxRest1 = list(solve((f_obj, Rest1), (x, y)).values())\n",
    "f_objxRest2 = list(solve((f_obj, Rest2), (x, y)).values())\n",
    "f_objxRest3 = list(solve((f_obj, Rest3), (x, y)).values())\n",
    "f_objxaxX   = list(solve((f_obj, axX), (x, y)).values())\n",
    "f_objxaxY   = list(solve((f_obj, axY), (x, y)).values())\n",
    "\n",
    "Rest1xRest2 = list(solve((Rest1, Rest2), (x, y)).values())\n",
    "Rest1xRest3 = list(solve((Rest1, Rest3), (x, y)).values())\n",
    "Rest1xaxX   = list(solve((Rest1, axX), (x, y)).values())\n",
    "Rest1xaxY   = list(solve((Rest1, axY), (x, y)).values())\n",
    "\n",
    "Rest2xRest3 = list(solve((Rest2, Rest3), (x, y)).values())\n",
    "Rest2xaxX   = list(solve((Rest2, axX), (x, y)).values())\n",
    "Rest2xaxY   = list(solve((Rest2, axY), (x, y)).values())\n",
    "\n",
    "Rest3xaxX = list(solve((Rest3, axX), (x, y)).values())\n",
    "Rest3xaxY = list(solve((Rest3, axY), (x, y)).values())\n",
    "\n",
    "axXxaxY = list(solve((axX, axY),(x, y)).values())\n",
    "\n",
    "# Lista de nuestros vertices\n",
    "Vert_List = [f_objxRest1, f_objxRest2, f_objxRest3, f_objxaxX,\n",
    "             f_objxaxY, Rest1xRest2, Rest1xRest3, Rest1xaxX,\n",
    "             Rest1xaxY, Rest2xRest3, Rest2xaxX, Rest2xaxY,\n",
    "             Rest3xaxX, Rest3xaxY, axXxaxY]"
   ]
  },
  {
   "cell_type": "code",
   "execution_count": 9,
   "metadata": {},
   "outputs": [
    {
     "data": {
      "text/plain": [
       "[[8, 4], [0, 8/3], [16, 6], [0, 14]]"
      ]
     },
     "execution_count": 9,
     "metadata": {},
     "output_type": "execute_result"
    }
   ],
   "source": [
    "# Comprobamos cuales de nuestros vertices cumplen todos\n",
    "# los criterios dados por nuestras condiciones\n",
    "Corr_Vert = []\n",
    "for i in range(0, len(Vert_List)):\n",
    "    x = Vert_List[i][0]\n",
    "    y = Vert_List[i][1]\n",
    "    Conditions = [-1*x + 6*y >= 16, -1*x + 4*y >= 8,\n",
    "                  1*x + 2*y <= 28, x >= 0, y >=0]\n",
    "    \n",
    "    if np.all(Conditions) == True:\n",
    "        Corr_Vert.append(Vert_List[i])\n",
    "\n",
    "Corr_Vert\n"
   ]
  },
  {
   "cell_type": "code",
   "execution_count": 10,
   "metadata": {},
   "outputs": [
    {
     "data": {
      "text/plain": [
       "<Figure size 432x288 with 0 Axes>"
      ]
     },
     "metadata": {},
     "output_type": "display_data"
    },
    {
     "data": {
      "image/png": "[encoded data removed]",
      "text/plain": [
       "<Figure size 432x288 with 1 Axes>"
      ]
     },
     "metadata": {
      "needs_background": "light"
     },
     "output_type": "display_data"
    }
   ],
   "source": [
    "# Creamos la figura\n",
    "plt.figure()\n",
    "\n",
    "fig = plt.figure()\n",
    "ax = fig.add_subplot(1, 1, 1)\n",
    "\n",
    "ax.spines['left'].set_position('zero')\n",
    "ax.spines['bottom'].set_position('zero')\n",
    "ax.spines['right'].set_color('none')\n",
    "ax.spines['top'].set_color('none')\n",
    "ax.xaxis.set_ticks_position('bottom')\n",
    "\n",
    "ax.set_xlim(-1, 30)\n",
    "ax.set_ylim(-1, 30)\n",
    "\n",
    "# Añadimos los vertices a la figura\n",
    "plt.plot(Corr_Vert[0][0], Corr_Vert[0][1], marker=\"o\", markersize=5)\n",
    "plt.text(Corr_Vert[0][0]+0.5, Corr_Vert[0][1], '[8,4]')\n",
    "\n",
    "plt.plot(Corr_Vert[1][0], Corr_Vert[1][1], marker=\"o\", markersize=5)\n",
    "plt.text(Corr_Vert[1][0]+0.5, Corr_Vert[1][1], '[0,2.67]')\n",
    "\n",
    "plt.plot(Corr_Vert[2][0], Corr_Vert[2][1], marker=\"o\", markersize=5)\n",
    "plt.text(Corr_Vert[2][0]+0.5, Corr_Vert[2][1], '[16,6]')\n",
    "\n",
    "plt.plot(Corr_Vert[3][0], Corr_Vert[3][1], marker=\"o\", markersize=5)\n",
    "plt.text(Corr_Vert[3][0]+0.5, Corr_Vert[3][1], '[0,14]')\n",
    "\n",
    "plt.show()"
   ]
  },
  {
   "cell_type": "code",
   "execution_count": 11,
   "metadata": {},
   "outputs": [
    {
     "data": {
      "text/plain": [
       "<Figure size 432x288 with 0 Axes>"
      ]
     },
     "metadata": {},
     "output_type": "display_data"
    },
    {
     "data": {
      "image/png": "[encoded data removed]",
      "text/plain": [
       "<Figure size 432x288 with 1 Axes>"
      ]
     },
     "metadata": {
      "needs_background": "light"
     },
     "output_type": "display_data"
    }
   ],
   "source": [
    "# Importamos libraria\n",
    "import matplotlib.pyplot as plt\n",
    "\n",
    "# Creamos el poligono a partir de los vertices deseados\n",
    "coord = [Corr_Vert[1], Corr_Vert[0], Corr_Vert[2], Corr_Vert[3]]\n",
    "coord.append(coord[0]) #repeat the first point to create a 'closed loop'\n",
    "xs, ys = zip(*coord) #create lists of x and y values\n",
    "\n",
    "# Creamos la figura\n",
    "plt.figure()\n",
    "\n",
    "fig = plt.figure()\n",
    "ax = fig.add_subplot(1, 1, 1)\n",
    "\n",
    "ax.spines['left'].set_position('zero')\n",
    "ax.spines['bottom'].set_position('zero')\n",
    "ax.spines['right'].set_color('none')\n",
    "ax.spines['top'].set_color('none')\n",
    "ax.xaxis.set_ticks_position('bottom')\n",
    "\n",
    "ax.set_xlim(-1, 30)\n",
    "ax.set_ylim(-1, 30)\n",
    "\n",
    "\n",
    "# Añadimos nuestro poligono\n",
    "plt.plot(xs,ys) \n",
    "\n",
    "plt.show() \n"
   ]
  },
  {
   "cell_type": "markdown",
   "metadata": {},
   "source": [
    "**Respuesta:**  <br/>\n",
    "La region factible esta determinada por los vertices: <br/>\n",
    "[8, 4], [0, 8/3], [16, 6], [0, 14]  <br/>\n",
    "Sin incluir el origen de coordenadas."
   ]
  },
  {
   "cell_type": "markdown",
   "metadata": {},
   "source": [
    "**EJERCICIO 1.D** <br/>\n",
    "Si la desigualdad de la tercera restricción (Rest. 3) cambia de sentido y ahora es X1 + 2X2 ≥ 28, entonces el PL tiene solución no acotada dado que la región factible es una región no acotada (no limitada)."
   ]
  },
  {
   "cell_type": "code",
   "execution_count": 12,
   "metadata": {},
   "outputs": [
    {
     "data": {
      "text/plain": [
       "[[16, 6], [0, 14]]"
      ]
     },
     "execution_count": 12,
     "metadata": {},
     "output_type": "execute_result"
    }
   ],
   "source": [
    "# Realizamos el cambio en el criterio y volvemos a\n",
    "# reevaluar nuestras intersecciones\n",
    "Corr_Vert_2 = []\n",
    "for i in range(0, len(Vert_List)):\n",
    "    x = Vert_List[i][0]\n",
    "    y = Vert_List[i][1]\n",
    "    Conditions_2 = [-1*x + 6*y >= 16, -1*x + 4*y >= 8,\n",
    "                  1*x + 2*y >= 28, x >= 0, y >=0]\n",
    "\n",
    "    if np.all(Conditions_2) == True:\n",
    "        Corr_Vert_2.append(Vert_List[i])\n",
    "        \n",
    "Corr_Vert_2"
   ]
  },
  {
   "cell_type": "code",
   "execution_count": 13,
   "metadata": {},
   "outputs": [
    {
     "data": {
      "text/plain": [
       "<Figure size 432x288 with 0 Axes>"
      ]
     },
     "metadata": {},
     "output_type": "display_data"
    },
    {
     "data": {
      "image/png": "[encoded data removed]",
      "text/plain": [
       "<Figure size 432x288 with 1 Axes>"
      ]
     },
     "metadata": {
      "needs_background": "light"
     },
     "output_type": "display_data"
    }
   ],
   "source": [
    "# Creamos la figura\n",
    "plt.figure()\n",
    "\n",
    "fig = plt.figure()\n",
    "ax = fig.add_subplot(1, 1, 1)\n",
    "\n",
    "ax.spines['left'].set_position('zero')\n",
    "ax.spines['bottom'].set_position('zero')\n",
    "ax.spines['right'].set_color('none')\n",
    "ax.spines['top'].set_color('none')\n",
    "ax.xaxis.set_ticks_position('bottom')\n",
    "\n",
    "ax.set_xlim(-1, 30)\n",
    "ax.set_ylim(-1, 30)\n",
    "\n",
    "# Añadimos los vectores a la figura\n",
    "plt.plot(Corr_Vert_2[0][0], Corr_Vert_2[0][1], marker=\"o\", markersize=5)\n",
    "plt.text(Corr_Vert_2[0][0]+0.5, Corr_Vert_2[0][1], '[16,6]')\n",
    "\n",
    "plt.plot(Corr_Vert_2[1][0], Corr_Vert_2[1][1], marker=\"o\", markersize=5)\n",
    "plt.text(Corr_Vert_2[1][0]+0.5, Corr_Vert_2[1][1], '[0,14]')\n",
    "\n",
    "plt.show()"
   ]
  },
  {
   "cell_type": "markdown",
   "metadata": {},
   "source": [
    "**Respuesta:** <br/>\n",
    "Solamente obtenemos dos intersecciones que cumplen todos nuestros criterios y con los cuales no podemos dibujar una region factible, quedando asi efectivamente no acotada.\n",
    "La demostracion puede observarse a continuacion:\n"
   ]
  },
  {
   "cell_type": "code",
   "execution_count": 15,
   "metadata": {},
   "outputs": [
    {
     "data": {
      "text/plain": [
       "[<matplotlib.lines.Line2D at 0x7f966adb7c40>]"
      ]
     },
     "execution_count": 15,
     "metadata": {},
     "output_type": "execute_result"
    },
    {
     "data": {
      "text/plain": [
       "<Figure size 432x288 with 0 Axes>"
      ]
     },
     "metadata": {},
     "output_type": "display_data"
    },
    {
     "data": {
      "image/png": "[encoded data removed]",
      "text/plain": [
       "<Figure size 432x288 with 1 Axes>"
      ]
     },
     "metadata": {
      "needs_background": "light"
     },
     "output_type": "display_data"
    }
   ],
   "source": [
    "# Creamos la figura\n",
    "plt.figure()\n",
    "\n",
    "fig = plt.figure()\n",
    "ax = fig.add_subplot(1, 1, 1)\n",
    "\n",
    "ax.spines['left'].set_position('zero')\n",
    "ax.spines['bottom'].set_position('zero')\n",
    "ax.spines['right'].set_color('none')\n",
    "ax.spines['top'].set_color('none')\n",
    "ax.xaxis.set_ticks_position('bottom')\n",
    "\n",
    "ax.set_xlim(-1, 30)\n",
    "ax.set_ylim(-1, 30)\n",
    "\n",
    "# Definimos nuesta nueva funcion en base a los valores\n",
    "# maximos que pueden tomar las dos (tres incluyendo x = 0)\n",
    "# funciones responsables de los vertices que cumplen los\n",
    "# nuevos criterios y coloreamos el area superior, correspondiente\n",
    "# al la region factible\n",
    "x = np.linspace(0,32,1000)\n",
    "max = np.maximum(1/4*x + 2, -1/2*x + 14)\n",
    "plt.fill_between(x, max, 32, color='b', alpha=0.3)\n",
    "plt.plot(x, max)\n",
    "\n"
   ]
  },
  {
   "cell_type": "markdown",
   "metadata": {},
   "source": [
    "# Ejercicio 2"
   ]
  },
  {
   "cell_type": "markdown",
   "metadata": {},
   "source": [
    "En la pastelería Casa Pastelló hacen dos tipos de tartas: Vienesa y Real. Cada tarta Vienesa necesita un cuarto de Kg. de relleno y un Kg. de bizcocho, y produce un beneficio de 1.5€. Cada tarta Real necesita medio Kg. de relleno y un Kg. de bizcocho, y produce 2.4€ de beneficio. En la pastelería pueden hacer diariamente hasta 150 Kg. de bizcocho y 50 Kg. de relleno, pero por problemas de maquinaria y mano de obra no pueden hacer más de 125 tartas de cada tipo. El planteamiento del modelo es:\n",
    "\n",
    "≤ ≥\n",
    "\n",
    "MAX: Z=1,5X<sub>1</sub>+ 2,4X<sub>2</sub>     <br/>\n",
    "Rest1:  X<sub>1</sub> + X<sub>2</sub> ≤ 150   <br/>\n",
    "Rest2:  X<sub>1</sub> + 2X<sub>2</sub> ≤ 200  <br/>\n",
    "Rest3:  X<sub>1</sub> ≤ 125                   <br/>\n",
    "Rest3:  X<sub>2</sub> ≤ 125                   <br/>\n",
    "X<sub>1</sub>, X<sub>2</sub> ≥ 0              <br/>\n",
    "\n",
    "donde X1 / X2 = Número tartas producidas del tipo Vienesa / Real.\n",
    "\n",
    "[Nota: a pesar que el PL es realmente un PLEP, para este problema asumiremos que es un PL.]\n",
    "\n",
    "Nota: Para contestar las cuestiones podéis utilizar una hoja de cálculo (ej. adaptando la hoja Excel: Act1_E2.xls al modelo PL de este ejercicio) o hacerlo a mano. Hay que adjuntar las gráficas a vuestras resoluciones. Si la resolución es a mano, entonces es necesario escanear y adjuntar las gráficas.\n"
   ]
  },
  {
   "cell_type": "markdown",
   "metadata": {},
   "source": [
    "**EJERCICIO 2.A**  <br/>\n",
    "Representa gráficamente la región factible (o región de soluciones posibles) ¿Qué tipo de región factible tiene el problema? Calcula los vértices que la delimitan. "
   ]
  },
  {
   "cell_type": "code",
   "execution_count": 16,
   "metadata": {},
   "outputs": [
    {
     "name": "stderr",
     "output_type": "stream",
     "text": [
      "/usr/lib/python3/dist-packages/sympy/core/relational.py:500: SymPyDeprecationWarning: \n",
      "\n",
      "Eq(expr) with rhs default to 0 has been deprecated since SymPy 1.5.\n",
      "Use Eq(expr, 0) instead. See\n",
      "https://github.com/sympy/sympy/issues/16587 for more info.\n",
      "\n",
      "  ).warn()\n"
     ]
    }
   ],
   "source": [
    "# Para la resolucion de este problema emplearemos\n",
    "# el mismo procedimiento que en el Ejercicio 1\n",
    "\n",
    "# Procedemos a encontrar los vertices donde\n",
    "# nuestras funciones intersectan\n",
    "from sympy import symbols, Eq, solve\n",
    "x, y = symbols('x y')\n",
    "\n",
    "# Declaramos nuestras funciones\n",
    "f_obj = 1.5*x + 2.4*y\n",
    "Rest1 = x + y -150\n",
    "Rest2 = x + 2*y - 200\n",
    "Rest3 = x - 125\n",
    "Rest4 = y - 125\n",
    "axX   = x\n",
    "axY   = y\n",
    "\n",
    "f_obj = Eq(f_obj)\n",
    "Rest1 = Eq(Rest1)\n",
    "Rest2 = Eq(Rest2)\n",
    "Rest3 = Eq(Rest3)\n",
    "Rest4 = Eq(Rest4)\n",
    "axX   = Eq(x)\n",
    "axY   = Eq(y)\n",
    "\n",
    "# Resolvemos cada par de funciones\n",
    "f_objxRest1 = list(solve((f_obj, Rest1), (x, y)).values())\n",
    "f_objxRest2 = list(solve((f_obj, Rest2), (x, y)).values())\n",
    "f_objxRest3 = list(solve((f_obj, Rest3), (x, y)).values())\n",
    "f_objxRest4 = list(solve((f_obj, Rest4), (x, y)).values())\n",
    "f_objxaxX   = list(solve((f_obj, axX), (x, y)).values())\n",
    "f_objxaxY   = list(solve((f_obj, axY), (x, y)).values())\n",
    "\n",
    "Rest1xRest2 = list(solve((Rest1, Rest2), (x, y)).values())\n",
    "Rest1xRest3 = list(solve((Rest1, Rest3), (x, y)).values())\n",
    "Rest1xRest4 = list(solve((Rest1, Rest4), (x, y)).values())\n",
    "Rest1xaxX   = list(solve((Rest1, axX), (x, y)).values())\n",
    "Rest1xaxY   = list(solve((Rest1, axY), (x, y)).values())\n",
    "\n",
    "Rest2xRest3 = list(solve((Rest2, Rest3), (x, y)).values())\n",
    "Rest2xRest4 = list(solve((Rest2, Rest4), (x, y)).values())\n",
    "Rest2xaxX   = list(solve((Rest2, axX), (x, y)).values())\n",
    "Rest2xaxY   = list(solve((Rest2, axY), (x, y)).values())\n",
    "\n",
    "Rest3xRest4 = list(solve((Rest3, Rest4), (x, y)).values())\n",
    "#Rest3xaxX = list(solve((Rest3, axX), (x, y)))  No tiene solucion (x =! x - 125)\n",
    "Rest3xaxY = list(solve((Rest3, axY), (x, y)).values())\n",
    "\n",
    "Rest4xaxX = list(solve((Rest4, axX), (x, y)).values())\n",
    "#Rest4xaxY = list(solve((Rest4, axY), (x, y)))  No tiene solucion (y =! y - 125)\n",
    "\n",
    "axXxaxY = list(solve((axX, axY),(x, y)).values())\n",
    "\n",
    "# Lista de nuestros vertices\n",
    "Vert_List = [f_objxRest1, f_objxRest2, f_objxRest3, f_objxRest4, f_objxaxX,\n",
    "             f_objxaxY, Rest1xRest2, Rest1xRest3, Rest1xRest4, Rest1xaxX,\n",
    "             Rest1xaxY, Rest2xRest3, Rest2xRest4, Rest2xaxX, Rest2xaxY,\n",
    "             Rest3xRest4, Rest3xaxY, Rest4xaxX, axXxaxY]"
   ]
  },
  {
   "cell_type": "code",
   "execution_count": 33,
   "metadata": {},
   "outputs": [
    {
     "data": {
      "text/plain": [
       "[[0.0, 0.0],\n",
       " [0.0, 0.0],\n",
       " [100, 50],\n",
       " [125, 25],\n",
       " [0, 100],\n",
       " [125, 0],\n",
       " [125, 0],\n",
       " [0, 0]]"
      ]
     },
     "execution_count": 33,
     "metadata": {},
     "output_type": "execute_result"
    }
   ],
   "source": [
    "# Comprobamos cuales de nuestros vertices cumplen todos\n",
    "# los criterios dados por nuestras condiciones\n",
    "Corr_Vert = []\n",
    "\n",
    "for i in range(0, len(Vert_List)):\n",
    "    x = Vert_List[i][0]\n",
    "    y = Vert_List[i][1]\n",
    "    Conditions = [x + y <= 150, x + 2*y <= 200,\n",
    "                  x <= 125, y <= 125, x >= 0, \n",
    "                  y >=0]\n",
    "    \n",
    "    if np.all(Conditions) == True:\n",
    "        Corr_Vert.append(Vert_List[i])\n",
    "\n",
    "Corr_Vert\n"
   ]
  },
  {
   "cell_type": "code",
   "execution_count": 39,
   "metadata": {},
   "outputs": [
    {
     "data": {
      "text/plain": [
       "[[0, 100], [0, 0], [125, 0], [125, 25], [100, 50]]"
      ]
     },
     "execution_count": 39,
     "metadata": {},
     "output_type": "execute_result"
    }
   ],
   "source": [
    "# Al haber valores repetido podemos retirarlos\n",
    "Corr_Vert = [list(x) for x in set(tuple(x) for x in Corr_Vert)]\n",
    "Corr_Vert.remove([0.0, 0.0])\n",
    "Corr_Vert"
   ]
  },
  {
   "cell_type": "code",
   "execution_count": 41,
   "metadata": {},
   "outputs": [
    {
     "data": {
      "text/plain": [
       "<Figure size 432x288 with 0 Axes>"
      ]
     },
     "metadata": {},
     "output_type": "display_data"
    },
    {
     "data": {
      "image/png": "[encoded data removed]",
      "text/plain": [
       "<Figure size 432x288 with 1 Axes>"
      ]
     },
     "metadata": {
      "needs_background": "light"
     },
     "output_type": "display_data"
    }
   ],
   "source": [
    "# Creamos la figura\n",
    "plt.figure()\n",
    "\n",
    "fig = plt.figure()\n",
    "ax = fig.add_subplot(1, 1, 1)\n",
    "\n",
    "ax.spines['left'].set_position('zero')\n",
    "ax.spines['bottom'].set_position('zero')\n",
    "ax.spines['right'].set_color('none')\n",
    "ax.spines['top'].set_color('none')\n",
    "ax.xaxis.set_ticks_position('bottom')\n",
    "\n",
    "ax.set_xlim(-5, 200)\n",
    "ax.set_ylim(-5, 200)\n",
    "\n",
    "# Añadimos los vectores a la figura\n",
    "plt.plot(Corr_Vert[0][0], Corr_Vert[0][1], marker=\"o\", markersize=5)\n",
    "plt.text(Corr_Vert[0][0]+5, Corr_Vert[0][1]-1.75, '[0,100]')\n",
    "\n",
    "plt.plot(Corr_Vert[1][0], Corr_Vert[1][1], marker=\"o\", markersize=5)\n",
    "plt.text(Corr_Vert[1][0]+5, Corr_Vert[1][1]+3, '[0,0]')\n",
    "\n",
    "plt.plot(Corr_Vert[2][0], Corr_Vert[2][1], marker=\"o\", markersize=5)\n",
    "plt.text(Corr_Vert[2][0]+5, Corr_Vert[2][1]+3, '[125,0]')\n",
    "\n",
    "plt.plot(Corr_Vert[3][0], Corr_Vert[3][1], marker=\"o\", markersize=5)\n",
    "plt.text(Corr_Vert[3][0]+5, Corr_Vert[3][1]-1.75, '[125,25]')\n",
    "\n",
    "plt.plot(Corr_Vert[4][0], Corr_Vert[4][1], marker=\"o\", markersize=5)\n",
    "plt.text(Corr_Vert[4][0]+5, Corr_Vert[4][1]-1.75, '[100,50]')\n",
    "\n",
    "\n",
    "\n",
    "plt.show()"
   ]
  },
  {
   "cell_type": "code",
   "execution_count": 43,
   "metadata": {},
   "outputs": [
    {
     "data": {
      "text/plain": [
       "<Figure size 432x288 with 0 Axes>"
      ]
     },
     "metadata": {},
     "output_type": "display_data"
    },
    {
     "data": {
      "image/png": "[encoded data removed]",
      "text/plain": [
       "<Figure size 432x288 with 1 Axes>"
      ]
     },
     "metadata": {
      "needs_background": "light"
     },
     "output_type": "display_data"
    }
   ],
   "source": [
    "# Importamos libraria\n",
    "import matplotlib.pyplot as plt\n",
    "\n",
    "# Creamos el poligono a partir de los vertices deseados\n",
    "coord = [Corr_Vert[1], Corr_Vert[2], Corr_Vert[3], Corr_Vert[4], Corr_Vert[0]]\n",
    "coord.append(coord[0]) #repeat the first point to create a 'closed loop'\n",
    "xs, ys = zip(*coord) #create lists of x and y values\n",
    "\n",
    "# Creamos la figura\n",
    "plt.figure()\n",
    "\n",
    "fig = plt.figure()\n",
    "ax = fig.add_subplot(1, 1, 1)\n",
    "\n",
    "ax.spines['left'].set_position('zero')\n",
    "ax.spines['bottom'].set_position('zero')\n",
    "ax.spines['right'].set_color('none')\n",
    "ax.spines['top'].set_color('none')\n",
    "ax.xaxis.set_ticks_position('bottom')\n",
    "\n",
    "ax.set_xlim(-5, 200)\n",
    "ax.set_ylim(-5, 200)\n",
    "\n",
    "\n",
    "# Añadimos nuestro poligono\n",
    "plt.plot(xs,ys) \n",
    "\n",
    "plt.show() "
   ]
  },
  {
   "cell_type": "markdown",
   "metadata": {},
   "source": [
    "**EJERCICIO 2.B**  <br/>\n",
    "Aplica el método de la línea isobeneficio para encontrar el vértice óptimo ¿Qué tipo de solución se ha obtenido? En el vértice óptimo, interpreta económicamente el valor que toma el lado izquierdo de las dos primeras restricciones, comparándolo con el correspondiente valor del lado derecho (o elemento del vector b)."
   ]
  },
  {
   "cell_type": "code",
   "execution_count": 63,
   "metadata": {},
   "outputs": [],
   "source": [
    "# Método de la línea isobeneficio\n",
    "Opt = []\n",
    "for ele in Corr_Vert:\n",
    "    x = ele[0]\n",
    "    y = ele[1]\n",
    "    z = 1.5*x + 2.4*y\n",
    "    Opt.append(float(z))\n",
    "\n"
   ]
  },
  {
   "cell_type": "code",
   "execution_count": 88,
   "metadata": {},
   "outputs": [
    {
     "data": {
      "text/html": [
       "<div>\n",
       "<style scoped>\n",
       "    .dataframe tbody tr th:only-of-type {\n",
       "        vertical-align: middle;\n",
       "    }\n",
       "\n",
       "    .dataframe tbody tr th {\n",
       "        vertical-align: top;\n",
       "    }\n",
       "\n",
       "    .dataframe thead th {\n",
       "        text-align: right;\n",
       "    }\n",
       "</style>\n",
       "<table border=\"1\" class=\"dataframe\">\n",
       "  <thead>\n",
       "    <tr style=\"text-align: right;\">\n",
       "      <th></th>\n",
       "      <th>X</th>\n",
       "      <th>Y</th>\n",
       "      <th>Optimizacion</th>\n",
       "    </tr>\n",
       "  </thead>\n",
       "  <tbody>\n",
       "    <tr>\n",
       "      <th>4</th>\n",
       "      <td>100</td>\n",
       "      <td>50</td>\n",
       "      <td>270.0</td>\n",
       "    </tr>\n",
       "    <tr>\n",
       "      <th>3</th>\n",
       "      <td>125</td>\n",
       "      <td>25</td>\n",
       "      <td>247.5</td>\n",
       "    </tr>\n",
       "    <tr>\n",
       "      <th>0</th>\n",
       "      <td>0</td>\n",
       "      <td>100</td>\n",
       "      <td>240.0</td>\n",
       "    </tr>\n",
       "    <tr>\n",
       "      <th>2</th>\n",
       "      <td>125</td>\n",
       "      <td>0</td>\n",
       "      <td>187.5</td>\n",
       "    </tr>\n",
       "    <tr>\n",
       "      <th>1</th>\n",
       "      <td>0</td>\n",
       "      <td>0</td>\n",
       "      <td>0.0</td>\n",
       "    </tr>\n",
       "  </tbody>\n",
       "</table>\n",
       "</div>"
      ],
      "text/plain": [
       "     X    Y  Optimizacion\n",
       "4  100   50         270.0\n",
       "3  125   25         247.5\n",
       "0    0  100         240.0\n",
       "2  125    0         187.5\n",
       "1    0    0           0.0"
      ]
     },
     "execution_count": 88,
     "metadata": {},
     "output_type": "execute_result"
    }
   ],
   "source": [
    "# Importando librerias\n",
    "import pandas as pd\n",
    "\n",
    "# Creamos un DataFrame que contenga los valores\n",
    "# x,y de los vertices obtenidos, ademas de  los valores\n",
    "# obtenidos al sustituir los valores x,y de los vertices\n",
    "# en la funcion objetivo\n",
    "df = pd.DataFrame(Corr_Vert)\n",
    "df.columns = ['X', 'Y']\n",
    "df['Optimizacion'] = Opt\n",
    "df.sort_values(['Optimizacion'], ascending=False)\n",
    "\n"
   ]
  },
  {
   "cell_type": "markdown",
   "metadata": {},
   "source": [
    "**Respuesta:** <br/>\n",
    "El vertice optimo es [100,50]"
   ]
  },
  {
   "cell_type": "markdown",
   "metadata": {},
   "source": [
    "**EJERCICIO 2.C** <br/>\n",
    "Supongamos que se ha conseguido abaratar el coste de la materia prima de manera que los beneficios de la tarta Vienesa han aumentado hasta 2€ y los de la Real hasta 4€. ¿Qué plan de producción óptimo propondríais en estas nuevas condiciones? A ser posible, determina 3 planes que produzcan el mismo beneficio máximo."
   ]
  },
  {
   "cell_type": "markdown",
   "metadata": {},
   "source": [
    "**Respuesta:** <br/>\n",
    "asdasdasd"
   ]
  },
  {
   "cell_type": "markdown",
   "metadata": {},
   "source": [
    "**EJERCICIO 2.D**  <br/>\n",
    "Partiendo de la situación inicial del enunciado, analiza qué efecto tiene en el valor óptimo del beneficio, el hecho de aumentar los Kg. disponibles de bizcocho hasta 155 Kg. ¿Y hasta 160 Kg? Entonces, ¿cuál es la tasa de aumento de beneficio por Kg. suplementario disponible de bizcocho? Haz un estudio análogo para determinar la tasa para el caso de aumentar los Kg. de relleno."
   ]
  },
  {
   "cell_type": "markdown",
   "metadata": {},
   "source": [
    "**Respuesta:** <br/>\n",
    "asdasdasd"
   ]
  }
 ],
 "metadata": {
  "kernelspec": {
   "display_name": "Python 3",
   "language": "python",
   "name": "python3"
  },
  "language_info": {
   "codemirror_mode": {
    "name": "ipython",
    "version": 3
   },
   "file_extension": ".py",
   "mimetype": "text/x-python",
   "name": "python",
   "nbconvert_exporter": "python",
   "pygments_lexer": "ipython3",
   "version": "3.10.4"
  },
  "orig_nbformat": 4,
  "vscode": {
   "interpreter": {
    "hash": "916dbcbb3f70747c44a77c7bcd40155683ae19c65e1c03b4aa3499c5328201f1"
   }
  }
 },
 "nbformat": 4,
 "nbformat_minor": 2
}
